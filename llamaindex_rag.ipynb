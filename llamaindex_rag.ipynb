{
 "cells": [
  {
   "cell_type": "code",
   "execution_count": 10,
   "metadata": {},
   "outputs": [],
   "source": [
    "from llama_index.llms.openai import OpenAI\n",
    "from llama_index.core.llms import ChatMessage\n",
    "from llama_index.core import Document\n",
    "from llama_index.core import download_loader, SimpleDirectoryReader, VectorStoreIndex\n",
    "from llama_index.readers.file import CSVReader, PandasCSVReader\n",
    "import os\n",
    "import openai\n",
    "import pandas as pd"
   ]
  },
  {
   "cell_type": "code",
   "execution_count": 11,
   "metadata": {},
   "outputs": [],
   "source": [
    "from llama_index.core import Settings\n",
    "\n",
    "folder_path = './'\n",
    "\n",
    "with open(f'{folder_path}OpenAI_API_Key.txt', 'r') as f:\n",
    "    openai.api_key = f.read().strip()\n",
    "\n",
    "llm = OpenAI(\n",
    "    model=\"gpt-4o-mini\"\n",
    ")\n",
    "\n",
    "Settings.llm = llm"
   ]
  },
  {
   "cell_type": "code",
   "execution_count": 12,
   "metadata": {},
   "outputs": [],
   "source": [
    "fasion_df = pd.read_csv(f'{folder_path}dataset/myntra_dataset.csv')"
   ]
  },
  {
   "cell_type": "code",
   "execution_count": 30,
   "metadata": {},
   "outputs": [],
   "source": [
    "\n",
    "documents = [\n",
    "    Document(\n",
    "        text=row['name'],\n",
    "        metadata={\n",
    "            \"id\": row['p_id'],\n",
    "            \"description\": row['description'],\n",
    "            \"img\": row['img'],\n",
    "            \"price\": row['price'],\n",
    "            \"color\": row['colour'],\n",
    "            \"brand\": row['brand']\n",
    "        },\n",
    "    )\n",
    "    for _, row in fasion_df.iterrows()\n",
    "]"
   ]
  },
  {
   "cell_type": "code",
   "execution_count": 31,
   "metadata": {},
   "outputs": [
    {
     "name": "stdout",
     "output_type": "stream",
     "text": [
      "loading index from the local storage\n",
      "Creating index from documents\n"
     ]
    }
   ],
   "source": [
    "from llama_index.core import StorageContext, load_index_from_storage\n",
    "database_path = f\"{folder_path}/database\"\n",
    "store_index = True\n",
    "try:\n",
    "    print(\"loading index from the local storage\")\n",
    "    storage_context = StorageContext.from_defaults(persist_dir=database_path)\n",
    "    index = load_index_from_storage(storage_context=storage_context, embed_model=Settings.embed_model)\n",
    "except:\n",
    "    print(\"Creating index from documents\")\n",
    "    index =  VectorStoreIndex.from_documents(documents)\n",
    "    if store_index:\n",
    "        index.storage_context.persist(persist_dir=database_path)\n"
   ]
  },
  {
   "cell_type": "code",
   "execution_count": 32,
   "metadata": {},
   "outputs": [],
   "source": [
    "from llama_index.core.retrievers import VectorIndexRetriever\n",
    "\n",
    "retriever = VectorIndexRetriever(index=index, similarity_top_k=5)"
   ]
  },
  {
   "cell_type": "markdown",
   "metadata": {},
   "source": [
    "#### Using Retriever Engine"
   ]
  },
  {
   "cell_type": "code",
   "execution_count": 33,
   "metadata": {},
   "outputs": [
    {
     "data": {
      "text/plain": [
       "<llama_index.core.query_engine.retriever_query_engine.RetrieverQueryEngine at 0x322c50820>"
      ]
     },
     "execution_count": 33,
     "metadata": {},
     "output_type": "execute_result"
    }
   ],
   "source": [
    "from llama_index.core.query_engine import RetrieverQueryEngine\n",
    "\n",
    "query_engine = RetrieverQueryEngine(\n",
    "    retriever = retriever,\n",
    ")\n",
    "query_engine"
   ]
  },
  {
   "cell_type": "code",
   "execution_count": 34,
   "metadata": {},
   "outputs": [
    {
     "name": "stdout",
     "output_type": "stream",
     "text": [
      "For a stylish winter outfit, consider the following options:\n",
      "\n",
      "1. **KASSUALLY Women Beautiful Off-White Solid Cardigan Set** - This elegant sweater features a cosy V-neck and long sleeves, perfect for layering. Priced at 2999, it offers a youthful and trendy look.\n",
      "\n",
      "2. **iki chic Women Stylish Black Washed Jacket** - A fashionable choice with a stand collar and sleeveless design, this jacket is ideal for a chic winter ensemble. It is available for 4599.\n",
      "\n",
      "3. **FREAKINS Women Lovely Olive Solid Jacket** - This classy jacket comes with a solid pattern and long sleeves, providing warmth and style. It is priced at 2399.\n",
      "\n",
      "4. **FREAKINS Women White Printed Jacket** - Featuring a unique printed pattern and spread collar, this jacket stands out beautifully. It is also available for 2399.\n",
      "\n",
      "5. **DressBerry Women Stunning Blue Solid Sweater** - This sweater, with its enchanting V-neck and long sleeves, is a great option for staying warm while looking stylish. It is priced at 2299.\n",
      "\n",
      "These pieces can be mixed and matched to create a fashionable winter wardrobe.\n"
     ]
    }
   ],
   "source": [
    "query_engine_response = query_engine.query(\"Stylish outfit for winter season.\")\n",
    "\n",
    "print(query_engine_response)"
   ]
  },
  {
   "cell_type": "markdown",
   "metadata": {},
   "source": [
    "### Observation:\n",
    " 1. Metadata not included in the response."
   ]
  },
  {
   "cell_type": "markdown",
   "metadata": {},
   "source": [
    "### Using default Query Engine"
   ]
  },
  {
   "cell_type": "code",
   "execution_count": 35,
   "metadata": {},
   "outputs": [
    {
     "name": "stdout",
     "output_type": "stream",
     "text": [
      "Consider a cozy off-white cardigan set from KASSUALLY, featuring a V-neck and long sleeves, perfect for layering during the winter. Alternatively, a trendy black sleeveless jacket from iki chic with a stand collar can add a fashionable touch to your winter wardrobe. Both options are stylish and suitable for keeping warm.\n"
     ]
    }
   ],
   "source": [
    "default_engine = index.as_query_engine()\n",
    "\n",
    "default_engine_response = default_engine.query(\"Stylish outfit for winter season.\")\n",
    "\n",
    "print(default_engine_response)"
   ]
  },
  {
   "cell_type": "markdown",
   "metadata": {},
   "source": [
    "### Observation\n",
    " 1. Brief output."
   ]
  },
  {
   "cell_type": "markdown",
   "metadata": {},
   "source": [
    "### Using default chat engine from index."
   ]
  },
  {
   "cell_type": "code",
   "execution_count": 17,
   "metadata": {},
   "outputs": [],
   "source": [
    "chat_engine = index.as_chat_engine()"
   ]
  },
  {
   "cell_type": "code",
   "execution_count": 18,
   "metadata": {},
   "outputs": [
    {
     "name": "stdout",
     "output_type": "stream",
     "text": [
      "A stylish option for a sleeveless top is the classic white solid bra top and vest from abof. It features a square neck and is made from a comfortable cotton blend, making it perfect for a fashionable impression at any get-together.\n"
     ]
    }
   ],
   "source": [
    "chat_response = chat_engine.query(\"stylish sleeveless tops\")\n",
    "\n",
    "print(chat_response)"
   ]
  },
  {
   "cell_type": "code",
   "execution_count": 19,
   "metadata": {},
   "outputs": [
    {
     "name": "stdout",
     "output_type": "stream",
     "text": [
      "A stylish option for a sleeveless top is the classic white solid bra top and vest from abof. It features a square neck and is made from a comfortable cotton blend, making it perfect for a fashionable impression at any get-together.\n"
     ]
    }
   ],
   "source": [
    "print(chat_response.response)"
   ]
  },
  {
   "cell_type": "code",
   "execution_count": 20,
   "metadata": {},
   "outputs": [
    {
     "name": "stdout",
     "output_type": "stream",
     "text": [
      "Steal the spotlight when you wear this trendy and versatile top for a get-together with pals. Featuring an attractive solid pattern and V-neck,this top is sure to emphasize your overall appeal.,Black colour,Classic solid pattern,V-neck,Three-quarter puff sleeves,Polyester,machine wash,,Trend Alert,Puff sleeves are typically gathered at the shoulder and puffed in between. They then gather back at the end creating a balloon-like look. Comfortable and stylish,they have been in vogue since the 14th century.Polyester,Machine washThe model (height 58) is wearing a size S\n",
      "http://assets.myntassets.com/assets/images/17012370/2022/2/17/cbc6ef85-2c35-4c13-9e24-c32595435b721645096897132-Sera-Women-Tops-4831645096896516-1.jpg\n",
      "\n",
      "Pick this fashionable top and make a worthy impression at your next get-together. The solid pattern and square neck of this beautiful top emphasize its overall appeal.,Classic white colour,Solid pattern,Square neck,Sleeveless,Cotton blend,machine wash,Trend Alert,Bra tops and vests are versatile,stylish,and classy pieces of clothing that ignite interest and play with various details,like cutouts,tie-ups,halter neck,spaghetti strap,plunge neck,and so on. They come in eye-catching prints and patterns,such as sunflowers,joyful motifs,positive slogans,self-care,and more.Fit: Regular Fit,Size worn by the model: S,Chest: 33\",Height: 58\",95% cotton &amp; 5% elastane,Machine wash\n",
      "http://assets.myntassets.com/assets/images/18320590/2022/6/22/d2c27438-5167-4c8a-87b3-7f98af9e88d41655884641059-abof-White-Solid-Bralette-Crop-Top-3881655884640480-1.jpg\n",
      "\n"
     ]
    }
   ],
   "source": [
    "for node in chat_response.source_nodes:\n",
    "    print(node.metadata['description'], end=\"\\n\")\n",
    "    print(node.metadata['img'], end=\"\\n\\n\")"
   ]
  },
  {
   "cell_type": "markdown",
   "metadata": {},
   "source": []
  },
  {
   "cell_type": "markdown",
   "metadata": {},
   "source": [
    "### Using Condense Question chat engine."
   ]
  },
  {
   "cell_type": "code",
   "execution_count": 21,
   "metadata": {},
   "outputs": [],
   "source": [
    "from llama_index.core.chat_engine import ContextChatEngine,CondenseQuestionChatEngine\n",
    "\n",
    "context_chat_engine = CondenseQuestionChatEngine.from_defaults(\n",
    "    retriever=retriever,\n",
    "    llm=llm,\n",
    "    query_engine=query_engine\n",
    ")"
   ]
  },
  {
   "cell_type": "code",
   "execution_count": 22,
   "metadata": {},
   "outputs": [
    {
     "name": "stdout",
     "output_type": "stream",
     "text": [
      "Here are some stylish sarees in red and pink color:\n",
      "\n",
      "1. **Satrani Women Red & Pink Geometric Printed Saree**\n",
      "   - Description: Geometric printed saree with a printed border.\n",
      "   - Fabric: 100% Chiffon.\n",
      "   - Length: 5.5 metres plus 0.8 metre blouse piece.\n",
      "   - Price: 4974.\n",
      "\n",
      "2. **Fashionuma Pink & Red Ethnic Motifs Pure Silk Saree**\n",
      "   - Description: Ethnic motifs printed saree with a printed border.\n",
      "   - Fabric: Pure Silk.\n",
      "   - Length: 5.5 metres plus 0.8 metre blouse piece.\n",
      "   - Price: 2999.\n",
      "\n",
      "These options combine elegance and style, perfect for various occasions.\n"
     ]
    }
   ],
   "source": [
    "context_chat_response = context_chat_engine.chat(\"stylish sarees in red and pink color\")\n",
    "\n",
    "print(context_chat_response)"
   ]
  },
  {
   "cell_type": "markdown",
   "metadata": {},
   "source": [
    "#### Observations:\n",
    " 1. The response does not have metadata retreived along with the search result."
   ]
  },
  {
   "cell_type": "code",
   "execution_count": 23,
   "metadata": {},
   "outputs": [],
   "source": [
    "chat_history= [ChatMessage(role=\"user\", content=\"stylish sarees in red and pink color\")]"
   ]
  },
  {
   "cell_type": "markdown",
   "metadata": {},
   "source": [
    "#### Trying to continue conversation using chat history."
   ]
  },
  {
   "cell_type": "code",
   "execution_count": 24,
   "metadata": {},
   "outputs": [
    {
     "name": "stdout",
     "output_type": "stream",
     "text": [
      "Here are some stylish saree options in red and pink colors:\n",
      "\n",
      "1. **Fashionuma Pink & Red Ethnic Motifs Pure Silk Saree**\n",
      "   - Price: ₹2999\n",
      "   - Description: Features ethnic motifs printed on pure silk with a printed border. Comes with an unstitched blouse piece.\n",
      "\n",
      "2. **Sangria Pink & Red Floral Organza Saree**\n",
      "   - Price: ₹3399\n",
      "   - Description: A floral printed saree made of organza, with no border. Includes an unstitched blouse piece.\n",
      "\n",
      "These options showcase a blend of traditional and contemporary designs, perfect for various occasions.\n"
     ]
    }
   ],
   "source": [
    "\n",
    "context_chat_response = context_chat_engine.chat(\"Can you suggest some more options please?\", chat_history)\n",
    "\n",
    "print(context_chat_response)"
   ]
  },
  {
   "cell_type": "markdown",
   "metadata": {},
   "source": [
    "### Observation:\n",
    " 1. Even shorter response which does not seem to be retrieved from the index."
   ]
  },
  {
   "cell_type": "code",
   "execution_count": null,
   "metadata": {},
   "outputs": [],
   "source": []
  }
 ],
 "metadata": {
  "kernelspec": {
   "display_name": "Python 3",
   "language": "python",
   "name": "python3"
  },
  "language_info": {
   "codemirror_mode": {
    "name": "ipython",
    "version": 3
   },
   "file_extension": ".py",
   "mimetype": "text/x-python",
   "name": "python",
   "nbconvert_exporter": "python",
   "pygments_lexer": "ipython3",
   "version": "3.9.6"
  }
 },
 "nbformat": 4,
 "nbformat_minor": 2
}
