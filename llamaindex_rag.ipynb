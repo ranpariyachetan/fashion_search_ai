{
 "cells": [
  {
   "cell_type": "code",
   "execution_count": 1,
   "metadata": {},
   "outputs": [
    {
     "name": "stderr",
     "output_type": "stream",
     "text": [
      "/Users/chetanranpariya/Library/Python/3.9/lib/python/site-packages/urllib3/__init__.py:35: NotOpenSSLWarning: urllib3 v2 only supports OpenSSL 1.1.1+, currently the 'ssl' module is compiled with 'LibreSSL 2.8.3'. See: https://github.com/urllib3/urllib3/issues/3020\n",
      "  warnings.warn(\n"
     ]
    }
   ],
   "source": [
    "from llama_index.llms.openai import OpenAI\n",
    "from llama_index.core.llms import ChatMessage\n",
    "from llama_index.core import Document\n",
    "from llama_index.core import download_loader, SimpleDirectoryReader, VectorStoreIndex\n",
    "from llama_index.readers.file import CSVReader, PandasCSVReader\n",
    "import os\n",
    "import openai\n",
    "import pandas as pd"
   ]
  },
  {
   "cell_type": "code",
   "execution_count": 15,
   "metadata": {},
   "outputs": [],
   "source": [
    "from llama_index.core import Settings\n",
    "\n",
    "folder_path = './'\n",
    "\n",
    "with open(f'{folder_path}OpenAI_API_Key.txt', 'r') as f:\n",
    "    openai.api_key = f.read().strip()\n",
    "\n",
    "llm = OpenAI(\n",
    "    model=\"gpt-4o-mini\"\n",
    ")\n",
    "\n",
    "Settings.llm = llm"
   ]
  },
  {
   "cell_type": "code",
   "execution_count": 3,
   "metadata": {},
   "outputs": [],
   "source": [
    "fasion_df = pd.read_csv(f'{folder_path}dataset/myntra_dataset.csv')"
   ]
  },
  {
   "cell_type": "code",
   "execution_count": 4,
   "metadata": {},
   "outputs": [],
   "source": [
    "\n",
    "documents = [\n",
    "    Document(\n",
    "        text=row['name'],\n",
    "        metadata={\n",
    "            \"id\": row['p_id'],\n",
    "            \"description\": row['description'],\n",
    "            \"img\": row['img'],\n",
    "            \"price\": row['price'],\n",
    "            \"color\": row['colour'],\n",
    "            \"brand\": row['brand']\n",
    "        },\n",
    "    )\n",
    "    for _, row in fasion_df.iterrows()\n",
    "]"
   ]
  },
  {
   "cell_type": "code",
   "execution_count": 5,
   "metadata": {},
   "outputs": [
    {
     "name": "stdout",
     "output_type": "stream",
     "text": [
      "loading index from the local storage\n"
     ]
    }
   ],
   "source": [
    "from llama_index.core import StorageContext, load_index_from_storage\n",
    "database_path = f\"{folder_path}/database\"\n",
    "store_index = True\n",
    "try:\n",
    "    print(\"loading index from the local storage\")\n",
    "    storage_context = StorageContext.from_defaults(persist_dir=database_path)\n",
    "    index = load_index_from_storage(storage_context=storage_context, embed_model=Settings.embed_model)\n",
    "except:\n",
    "    print(\"Creating index from documents\")\n",
    "    index =  VectorStoreIndex.from_documents(documents)\n",
    "    if store_index:\n",
    "        index.storage_context.persist(persist_dir=database_path)\n"
   ]
  },
  {
   "cell_type": "code",
   "execution_count": 6,
   "metadata": {},
   "outputs": [],
   "source": [
    "from llama_index.core.retrievers import VectorIndexRetriever\n",
    "\n",
    "retriever = VectorIndexRetriever(index=index, similarity_top_k=5)"
   ]
  },
  {
   "cell_type": "markdown",
   "metadata": {},
   "source": [
    "#### Using Retriever Engine"
   ]
  },
  {
   "cell_type": "code",
   "execution_count": 7,
   "metadata": {},
   "outputs": [
    {
     "data": {
      "text/plain": [
       "<llama_index.core.query_engine.retriever_query_engine.RetrieverQueryEngine at 0x111ad4100>"
      ]
     },
     "execution_count": 7,
     "metadata": {},
     "output_type": "execute_result"
    }
   ],
   "source": [
    "from llama_index.core.query_engine import RetrieverQueryEngine\n",
    "\n",
    "query_engine = RetrieverQueryEngine(\n",
    "    retriever = retriever,\n",
    ")\n",
    "query_engine"
   ]
  },
  {
   "cell_type": "code",
   "execution_count": 8,
   "metadata": {},
   "outputs": [
    {
     "name": "stdout",
     "output_type": "stream",
     "text": [
      "For a stylish winter outfit, consider layering a trendy jacket with a cozy sweater. A fashionable option could be the iki chic Women Stylish Black Washed Jacket paired with the KASSUALLY Women Beautiful Off-White Solid Cardigan Set. This combination offers warmth and elegance, perfect for chilly days. Alternatively, you could opt for the FREAKINS Women Lovely Olive Solid Jacket or the FREAKINS Women White Printed Jacket, both of which provide a chic look while keeping you warm. Don't forget to accessorize to complete your winter ensemble!\n"
     ]
    }
   ],
   "source": [
    "query_engine_response = query_engine.query(\"Stylish outfit for winter season.\")\n",
    "\n",
    "print(query_engine_response)"
   ]
  },
  {
   "cell_type": "code",
   "execution_count": 41,
   "metadata": {},
   "outputs": [],
   "source": [
    "from IPython.display import display, HTML\n",
    "\n",
    "def display_response(response):\n",
    "    for node in response.source_nodes:\n",
    "        print(node.metadata['description'], end=\"\\n\")\n",
    "        display(HTML(f\"<img src='{node.metadata['img']}' style='width:200px;height:200px'></img>\"))"
   ]
  },
  {
   "cell_type": "markdown",
   "metadata": {},
   "source": [
    "### Using default Query Engine"
   ]
  },
  {
   "cell_type": "code",
   "execution_count": 21,
   "metadata": {},
   "outputs": [
    {
     "data": {
      "text/plain": [
       "Response(response='Consider a cozy off-white cardigan set that features a V-neck and long sleeves, perfect for layering during the winter. Alternatively, a trendy black sleeveless jacket with a stand collar can add a fashionable touch to your winter wardrobe. Both options are stylish and will keep you warm.', source_nodes=[NodeWithScore(node=TextNode(id_='40c1a5c4-a0e5-4e7a-a415-b29465e9aec6', embedding=None, metadata={'id': 16055322, 'description': 'Revamp your winter-wear wardrobe with this elegant sweater. This sweater comes with a cosy V-neck and lovely long sleeves.,Beautiful off-white tone,Solid pattern,V-neck,Long sleeves,Cotton,machine wash,Trend Alert,Youthful and trendy,cardigan sets comprise a cardigan sweater along with a matching top,camisole,or a cropped top to wear underneath.Cotton,Machine washThe model (height 58) is wearing a size S', 'img': 'http://assets.myntassets.com/assets/images/16055322/2021/11/29/da98be2c-7660-43a1-80ac-dbf2a3e23e481638187896390-KASSUALLY-Women-Sweaters-1901638187895847-1.jpg', 'price': 2999, 'color': 'Grey', 'brand': 'KASSUALLY'}, excluded_embed_metadata_keys=[], excluded_llm_metadata_keys=[], relationships={<NodeRelationship.SOURCE: '1'>: RelatedNodeInfo(node_id='d93d5820-c80c-42d7-a5b9-c9702352d7e6', node_type=<ObjectType.DOCUMENT: '4'>, metadata={'id': 16055322, 'description': 'Revamp your winter-wear wardrobe with this elegant sweater. This sweater comes with a cosy V-neck and lovely long sleeves.,Beautiful off-white tone,Solid pattern,V-neck,Long sleeves,Cotton,machine wash,Trend Alert,Youthful and trendy,cardigan sets comprise a cardigan sweater along with a matching top,camisole,or a cropped top to wear underneath.Cotton,Machine washThe model (height 58) is wearing a size S', 'img': 'http://assets.myntassets.com/assets/images/16055322/2021/11/29/da98be2c-7660-43a1-80ac-dbf2a3e23e481638187896390-KASSUALLY-Women-Sweaters-1901638187895847-1.jpg', 'price': 2999, 'color': 'Grey', 'brand': 'KASSUALLY'}, hash='e7f012915bf63d4b60cb9e238355170326558bf157e082a8e79a7278c571af8c')}, text='KASSUALLY Women Beautiful Off-White Solid Cardigan Set', mimetype='text/plain', start_char_idx=0, end_char_idx=54, text_template='{metadata_str}\\n\\n{content}', metadata_template='{key}: {value}', metadata_seperator='\\n'), score=0.8548246547809373), NodeWithScore(node=TextNode(id_='4a69906a-3630-4079-8c02-3954e5e26d40', embedding=None, metadata={'id': 15597856, 'description': 'Stay warm and look fashionable in this trendy jacket. Tailored with a stand collar and sleeveless design,it makes for a great outfit companion.,Stylish black colour,Washed pattern,Stand collar,Sleeveless,Cotton,dry clean,Material : 100% cotton denim,Wash Care : Dryclean onlyThe model (height 58) is wearing a size S', 'img': 'http://assets.myntassets.com/assets/images/15597856/2021/10/18/7170bf20-8acb-48b7-a21c-2bbf3d9becfc1634558579845-iki-chic-Women-Jackets-1911634558579311-1.jpg', 'price': 4599, 'color': 'Black', 'brand': 'iki chic'}, excluded_embed_metadata_keys=[], excluded_llm_metadata_keys=[], relationships={<NodeRelationship.SOURCE: '1'>: RelatedNodeInfo(node_id='07f43d3d-043f-42a2-ad80-09ff0dc0e16b', node_type=<ObjectType.DOCUMENT: '4'>, metadata={'id': 15597856, 'description': 'Stay warm and look fashionable in this trendy jacket. Tailored with a stand collar and sleeveless design,it makes for a great outfit companion.,Stylish black colour,Washed pattern,Stand collar,Sleeveless,Cotton,dry clean,Material : 100% cotton denim,Wash Care : Dryclean onlyThe model (height 58) is wearing a size S', 'img': 'http://assets.myntassets.com/assets/images/15597856/2021/10/18/7170bf20-8acb-48b7-a21c-2bbf3d9becfc1634558579845-iki-chic-Women-Jackets-1911634558579311-1.jpg', 'price': 4599, 'color': 'Black', 'brand': 'iki chic'}, hash='229a417f5bd2d0cd9a2e7a2a14ca8f25fedb97260e7c83c37d1f10db51dd5efd')}, text='iki chic Women Stylish Black Washed Jacket', mimetype='text/plain', start_char_idx=0, end_char_idx=42, text_template='{metadata_str}\\n\\n{content}', metadata_template='{key}: {value}', metadata_seperator='\\n'), score=0.8543307780562052)], metadata={'40c1a5c4-a0e5-4e7a-a415-b29465e9aec6': {'id': 16055322, 'description': 'Revamp your winter-wear wardrobe with this elegant sweater. This sweater comes with a cosy V-neck and lovely long sleeves.,Beautiful off-white tone,Solid pattern,V-neck,Long sleeves,Cotton,machine wash,Trend Alert,Youthful and trendy,cardigan sets comprise a cardigan sweater along with a matching top,camisole,or a cropped top to wear underneath.Cotton,Machine washThe model (height 58) is wearing a size S', 'img': 'http://assets.myntassets.com/assets/images/16055322/2021/11/29/da98be2c-7660-43a1-80ac-dbf2a3e23e481638187896390-KASSUALLY-Women-Sweaters-1901638187895847-1.jpg', 'price': 2999, 'color': 'Grey', 'brand': 'KASSUALLY'}, '4a69906a-3630-4079-8c02-3954e5e26d40': {'id': 15597856, 'description': 'Stay warm and look fashionable in this trendy jacket. Tailored with a stand collar and sleeveless design,it makes for a great outfit companion.,Stylish black colour,Washed pattern,Stand collar,Sleeveless,Cotton,dry clean,Material : 100% cotton denim,Wash Care : Dryclean onlyThe model (height 58) is wearing a size S', 'img': 'http://assets.myntassets.com/assets/images/15597856/2021/10/18/7170bf20-8acb-48b7-a21c-2bbf3d9becfc1634558579845-iki-chic-Women-Jackets-1911634558579311-1.jpg', 'price': 4599, 'color': 'Black', 'brand': 'iki chic'}})"
      ]
     },
     "execution_count": 21,
     "metadata": {},
     "output_type": "execute_result"
    }
   ],
   "source": [
    "default_engine = index.as_query_engine()\n",
    "\n",
    "default_engine_response = default_engine.query(\"Stylish outfit for winter season.\")\n",
    "\n",
    "default_engine_response"
   ]
  },
  {
   "cell_type": "code",
   "execution_count": 45,
   "metadata": {},
   "outputs": [
    {
     "name": "stdout",
     "output_type": "stream",
     "text": [
      "Revamp your winter-wear wardrobe with this elegant sweater. This sweater comes with a cosy V-neck and lovely long sleeves.,Beautiful off-white tone,Solid pattern,V-neck,Long sleeves,Cotton,machine wash,Trend Alert,Youthful and trendy,cardigan sets comprise a cardigan sweater along with a matching top,camisole,or a cropped top to wear underneath.Cotton,Machine washThe model (height 58) is wearing a size S\n"
     ]
    },
    {
     "data": {
      "text/html": [
       "<img src='http://assets.myntassets.com/assets/images/16055322/2021/11/29/da98be2c-7660-43a1-80ac-dbf2a3e23e481638187896390-KASSUALLY-Women-Sweaters-1901638187895847-1.jpg' style='width:200px;height:200px'></img>"
      ],
      "text/plain": [
       "<IPython.core.display.HTML object>"
      ]
     },
     "metadata": {},
     "output_type": "display_data"
    },
    {
     "name": "stdout",
     "output_type": "stream",
     "text": [
      "Stay warm and look fashionable in this trendy jacket. Tailored with a stand collar and sleeveless design,it makes for a great outfit companion.,Stylish black colour,Washed pattern,Stand collar,Sleeveless,Cotton,dry clean,Material : 100% cotton denim,Wash Care : Dryclean onlyThe model (height 58) is wearing a size S\n"
     ]
    },
    {
     "data": {
      "text/html": [
       "<img src='http://assets.myntassets.com/assets/images/15597856/2021/10/18/7170bf20-8acb-48b7-a21c-2bbf3d9becfc1634558579845-iki-chic-Women-Jackets-1911634558579311-1.jpg' style='width:200px;height:200px'></img>"
      ],
      "text/plain": [
       "<IPython.core.display.HTML object>"
      ]
     },
     "metadata": {},
     "output_type": "display_data"
    }
   ],
   "source": [
    "display_response(default_engine_response)"
   ]
  },
  {
   "cell_type": "markdown",
   "metadata": {},
   "source": [
    "### Using default chat engine from index."
   ]
  },
  {
   "cell_type": "code",
   "execution_count": 17,
   "metadata": {},
   "outputs": [],
   "source": [
    "chat_engine = index.as_chat_engine()"
   ]
  },
  {
   "cell_type": "code",
   "execution_count": 18,
   "metadata": {},
   "outputs": [
    {
     "name": "stdout",
     "output_type": "stream",
     "text": [
      "Here are a couple of stylish sleeveless tops you might like:\n",
      "\n",
      "1. **SASSAFRAS Women Classy Beige Solid Bra Top and Vest**: This top features a halter neck design and is made from a comfortable cotton blend, making it both stylish and comfortable.\n",
      "\n",
      "2. **Sera Women Stylish Black Solid Puff Sleeves Top**: Although this option has three-quarter puff sleeves, it offers a trendy look with its V-neck design, making it a fashionable choice for various occasions.\n",
      "\n",
      "If you're looking for more specific styles or colors, let me know!\n"
     ]
    }
   ],
   "source": [
    "chat_response = chat_engine.query(\"stylish sleeveless tops\")\n",
    "\n",
    "print(chat_response)"
   ]
  },
  {
   "cell_type": "code",
   "execution_count": 42,
   "metadata": {},
   "outputs": [
    {
     "name": "stdout",
     "output_type": "stream",
     "text": [
      "Upgrade your casual style by flaunting this fashionable top. Designed with a beautiful solid pattern and halter neck,this top makes you look distinct.,Classy beige tone,Classic solid pattern,Halter neck,Sleeveless,Cotton blend,machine wash,Trend Alert,Bra tops and vests are versatile,stylish,and classy pieces of clothing that ignite interest and play with various details,like cutouts,tie-ups,halter neck,spaghetti strap,plunge neck,and so on. They come in eye-catching prints and patterns,such as sunflowers,joyful motifs,positive slogans,self-care,and more.96% Cotton 4% SpandexThe model (height 58) is wearing a size S\n"
     ]
    },
    {
     "data": {
      "text/html": [
       "<img src='http://assets.myntassets.com/assets/images/17511640/2022/3/25/7d943807-38ff-4e49-8f90-823bf3510d7a1648195711693-SASSAFRAS-Women-Tshirts-5401648195711196-1.jpg' style='width:200px;height:200px'></img>"
      ],
      "text/plain": [
       "<IPython.core.display.HTML object>"
      ]
     },
     "metadata": {},
     "output_type": "display_data"
    },
    {
     "name": "stdout",
     "output_type": "stream",
     "text": [
      "Steal the spotlight when you wear this trendy and versatile top for a get-together with pals. Featuring an attractive solid pattern and V-neck,this top is sure to emphasize your overall appeal.,Black colour,Classic solid pattern,V-neck,Three-quarter puff sleeves,Polyester,machine wash,,Trend Alert,Puff sleeves are typically gathered at the shoulder and puffed in between. They then gather back at the end creating a balloon-like look. Comfortable and stylish,they have been in vogue since the 14th century.Polyester,Machine washThe model (height 58) is wearing a size S\n"
     ]
    },
    {
     "data": {
      "text/html": [
       "<img src='http://assets.myntassets.com/assets/images/17012370/2022/2/17/cbc6ef85-2c35-4c13-9e24-c32595435b721645096897132-Sera-Women-Tops-4831645096896516-1.jpg' style='width:200px;height:200px'></img>"
      ],
      "text/plain": [
       "<IPython.core.display.HTML object>"
      ]
     },
     "metadata": {},
     "output_type": "display_data"
    }
   ],
   "source": [
    "display_response(chat_response)"
   ]
  },
  {
   "cell_type": "markdown",
   "metadata": {},
   "source": [
    "### Using Condense Question chat engine."
   ]
  },
  {
   "cell_type": "code",
   "execution_count": 35,
   "metadata": {},
   "outputs": [],
   "source": [
    "from llama_index.core.chat_engine import ContextChatEngine,CondenseQuestionChatEngine\n",
    "\n",
    "context_chat_engine = CondenseQuestionChatEngine.from_defaults(\n",
    "    retriever=retriever,\n",
    "    llm=llm,\n",
    "    query_engine=query_engine\n",
    ")"
   ]
  },
  {
   "cell_type": "code",
   "execution_count": 36,
   "metadata": {},
   "outputs": [
    {
     "name": "stdout",
     "output_type": "stream",
     "text": [
      "Here are some stylish sarees in red and pink colors:\n",
      "\n",
      "1. **Satrani Women Red & Pink Geometric Printed Saree**\n",
      "   - Price: ₹4974\n",
      "   - Fabric: 100% Chiffon\n",
      "   - Description: Geometric printed saree with a printed border. Comes with an unstitched blouse piece.\n",
      "   - ![Image](http://assets.myntassets.com/assets/images/16895216/2022/2/9/e399c8ff-92c0-46c0-85f8-891c6fca9e381644388654751-Satrani-Women-Red--Pink-Geometric-Printed-Saree-480164438865-1.jpg)\n",
      "\n",
      "2. **Fashionuma Pink & Red Ethnic Motifs Pure Silk Saree**\n",
      "   - Price: ₹2999\n",
      "   - Fabric: Pure Silk\n",
      "   - Description: Ethnic motifs printed saree with a printed border. Comes with an unstitched blouse piece.\n",
      "   - ![Image](http://assets.myntassets.com/assets/images/19040158/2022/7/11/cf868b56-f3a1-4e52-befb-309dc181fba91657521535792SareeBlouse1.jpg)\n",
      "\n",
      "3. **Sangria Pink & Red Floral Organza Saree**\n",
      "   - Price: ₹3399\n",
      "   - Fabric: Organza\n",
      "   - Description: Floral printed saree with no border. Comes with an unstitched blouse piece.\n",
      "   - ![Image](http://assets.myntassets.com/assets/images/18207054/2022/5/25/7aee53b8-6ede-48ea-9183-533a894081261653483963524SangriaPinkRedPaisleyOrganzaSaree1.jpg)\n",
      "\n",
      "These options showcase a variety of styles and fabrics in the red and pink color palette.\n"
     ]
    }
   ],
   "source": [
    "context_chat_response = context_chat_engine.chat(\"stylish sarees in red and pink color\")\n",
    "\n",
    "print(context_chat_response)"
   ]
  },
  {
   "cell_type": "code",
   "execution_count": 43,
   "metadata": {},
   "outputs": [
    {
     "name": "stdout",
     "output_type": "stream",
     "text": [
      ", Design Details Pink and red saree , Ethnic motifs printed saree with printed borderThe saree comes with an unstitched blouse piece,The blouse worn by the model might be for modelling purpose only. Check the image of the blouse piece to understand how the actual blouse piece looks like.Length: 5.5 metres plus 0.8 metre blouse piece ,Width: 1.06 metres (approx.)Pure Silk,Dry Clean\n"
     ]
    },
    {
     "data": {
      "text/html": [
       "<img src='http://assets.myntassets.com/assets/images/19040158/2022/7/11/cf868b56-f3a1-4e52-befb-309dc181fba91657521535792SareeBlouse1.jpg' style='width:200px;height:200px'></img>"
      ],
      "text/plain": [
       "<IPython.core.display.HTML object>"
      ]
     },
     "metadata": {},
     "output_type": "display_data"
    },
    {
     "name": "stdout",
     "output_type": "stream",
     "text": [
      ", Design Details Red and pink saree , Geometric printed saree with printed borderThe saree comes with an unstitched blouse piece,The blouse worn by the model might be for modelling purpose only. Check the image of the blouse piece to understand how the actual blouse piece looks like.Length: 5.5 metres plus 0.8 metre blouse piece ,Width: 1.06 metres (approx.)Saree:100% Chiffon,Blouse : 100% Chiffon,Dry Clean\n"
     ]
    },
    {
     "data": {
      "text/html": [
       "<img src='http://assets.myntassets.com/assets/images/16895216/2022/2/9/e399c8ff-92c0-46c0-85f8-891c6fca9e381644388654751-Satrani-Women-Red--Pink-Geometric-Printed-Saree-480164438865-1.jpg' style='width:200px;height:200px'></img>"
      ],
      "text/plain": [
       "<IPython.core.display.HTML object>"
      ]
     },
     "metadata": {},
     "output_type": "display_data"
    },
    {
     "name": "stdout",
     "output_type": "stream",
     "text": [
      ", Design Details Grey and pink saree , Floral embellished saree with embellished border , Has beads and stones detailThe saree comes with an unstitched blouse piece,The blouse worn by the model might be for modelling purpose only. Check the image of the blouse piece to understand how the actual blouse piece looks like.,Length: 5.5 metres plus 0.8 metre blouse piece ,Width: 1.06 metres (approx.)\n"
     ]
    },
    {
     "data": {
      "text/html": [
       "<img src='http://assets.myntassets.com/assets/images/18775020/2022/6/18/3231f5fe-b2c4-4ff0-8407-eb48f19898731655530677722GreyNetSareeWithStoneWorkAndEmbroidery1.jpg' style='width:200px;height:200px'></img>"
      ],
      "text/plain": [
       "<IPython.core.display.HTML object>"
      ]
     },
     "metadata": {},
     "output_type": "display_data"
    },
    {
     "name": "stdout",
     "output_type": "stream",
     "text": [
      ",Design Details:,Pink and Orange checked saree and has a woven design border with tasselled detail,Blouse Piece,The model is wearing a stitched version of the blouse. The saree comes with an unstitched blouse piece.Length: 5.5 metres plus 80 cm blouse piece,Width: 1 metre (approx)Saree fabric: silk cotton,Blouse fabric: silk cotton,Hand-wash\n"
     ]
    },
    {
     "data": {
      "text/html": [
       "<img src='http://assets.myntassets.com/assets/images/11330220/2020/2/3/6b141e75-0235-48bf-82de-1daaab8a14b41580731314365-Saree-mall-Pink--Orange-Cotton-Silk--Ethnic-wear-Smart-Casua-1.jpg' style='width:200px;height:200px'></img>"
      ],
      "text/plain": [
       "<IPython.core.display.HTML object>"
      ]
     },
     "metadata": {},
     "output_type": "display_data"
    },
    {
     "name": "stdout",
     "output_type": "stream",
     "text": [
      "Breathe life into your ethnic collection by adding this elegant-looking saree. Designed with a floral print,woven border,and a silk blend fabric,this piece is sure to add to your appeal. ,Design Details ,Pink and blue Dyedbanarasi saree,Floral printed saree with woven design border,Trend Alert,Soft,light,and soothing,pastels always make a comeback in the spring and summer seasons. Encompassing a palette of hues including delicate pinks,pale lilac,cool blues,and mint tints,pastels exude a fresh,youthful vibe.Saree fabric:  Silk Blend ,Blouse fabric:  Silk Blend ,Dry cleanLength: 5.5 metres plus 0.8 metre(80 cm) blouse piece,Width: 1.06 metres (approx.)\n"
     ]
    },
    {
     "data": {
      "text/html": [
       "<img src='http://assets.myntassets.com/assets/images/14006702/2021/7/9/5061cea0-2ccc-46df-97c1-9c2625383d831625822806651-Saree-mall-Women-Sarees-5611625822806335-1.jpg' style='width:200px;height:200px'></img>"
      ],
      "text/plain": [
       "<IPython.core.display.HTML object>"
      ]
     },
     "metadata": {},
     "output_type": "display_data"
    }
   ],
   "source": [
    "display_response(context_chat_response)"
   ]
  },
  {
   "cell_type": "code",
   "execution_count": 38,
   "metadata": {},
   "outputs": [],
   "source": [
    "chat_history= [ChatMessage(role=\"user\", content=\"stylish sarees in red and pink color\")]"
   ]
  },
  {
   "cell_type": "markdown",
   "metadata": {},
   "source": [
    "#### Trying to continue conversation using chat history."
   ]
  },
  {
   "cell_type": "code",
   "execution_count": 39,
   "metadata": {},
   "outputs": [
    {
     "name": "stdout",
     "output_type": "stream",
     "text": [
      "Here are some stylish saree options in red and pink colors:\n",
      "\n",
      "1. **Satrani Women Red & Pink Geometric Printed Saree**\n",
      "   - Description: Geometric printed saree with a printed border.\n",
      "   - Fabric: 100% Chiffon.\n",
      "   - Length: 5.5 metres plus 0.8 metre blouse piece.\n",
      "   - Price: ₹4974.\n",
      "   - ![Image](http://assets.myntassets.com/assets/images/16895216/2022/2/9/e399c8ff-92c0-46c0-85f8-891c6fca9e381644388654751-Satrani-Women-Red--Pink-Geometric-Printed-Saree-480164438865-1.jpg)\n",
      "\n",
      "2. **Fashionuma Pink & Red Ethnic Motifs Pure Silk Saree**\n",
      "   - Description: Ethnic motifs printed saree with a printed border.\n",
      "   - Fabric: Pure Silk.\n",
      "   - Length: 5.5 metres plus 0.8 metre blouse piece.\n",
      "   - Price: ₹2999.\n",
      "   - ![Image](http://assets.myntassets.com/assets/images/19040158/2022/7/11/cf868b56-f3a1-4e52-befb-309dc181fba91657521535792SareeBlouse1.jpg)\n",
      "\n",
      "These options combine vibrant colors with unique designs, making them stylish choices for various occasions.\n"
     ]
    }
   ],
   "source": [
    "\n",
    "context_chat_response = context_chat_engine.chat(\"Can you suggest some more options please?\", chat_history)\n",
    "\n",
    "print(context_chat_response)"
   ]
  },
  {
   "cell_type": "code",
   "execution_count": 44,
   "metadata": {},
   "outputs": [
    {
     "name": "stdout",
     "output_type": "stream",
     "text": [
      ", Design Details Pink and red saree , Ethnic motifs printed saree with printed borderThe saree comes with an unstitched blouse piece,The blouse worn by the model might be for modelling purpose only. Check the image of the blouse piece to understand how the actual blouse piece looks like.Length: 5.5 metres plus 0.8 metre blouse piece ,Width: 1.06 metres (approx.)Pure Silk,Dry Clean\n"
     ]
    },
    {
     "data": {
      "text/html": [
       "<img src='http://assets.myntassets.com/assets/images/19040158/2022/7/11/cf868b56-f3a1-4e52-befb-309dc181fba91657521535792SareeBlouse1.jpg' style='width:200px;height:200px'></img>"
      ],
      "text/plain": [
       "<IPython.core.display.HTML object>"
      ]
     },
     "metadata": {},
     "output_type": "display_data"
    },
    {
     "name": "stdout",
     "output_type": "stream",
     "text": [
      ", Design Details Red and pink saree , Geometric printed saree with printed borderThe saree comes with an unstitched blouse piece,The blouse worn by the model might be for modelling purpose only. Check the image of the blouse piece to understand how the actual blouse piece looks like.Length: 5.5 metres plus 0.8 metre blouse piece ,Width: 1.06 metres (approx.)Saree:100% Chiffon,Blouse : 100% Chiffon,Dry Clean\n"
     ]
    },
    {
     "data": {
      "text/html": [
       "<img src='http://assets.myntassets.com/assets/images/16895216/2022/2/9/e399c8ff-92c0-46c0-85f8-891c6fca9e381644388654751-Satrani-Women-Red--Pink-Geometric-Printed-Saree-480164438865-1.jpg' style='width:200px;height:200px'></img>"
      ],
      "text/plain": [
       "<IPython.core.display.HTML object>"
      ]
     },
     "metadata": {},
     "output_type": "display_data"
    },
    {
     "name": "stdout",
     "output_type": "stream",
     "text": [
      ", Design Details Grey and pink saree , Floral embellished saree with embellished border , Has beads and stones detailThe saree comes with an unstitched blouse piece,The blouse worn by the model might be for modelling purpose only. Check the image of the blouse piece to understand how the actual blouse piece looks like.,Length: 5.5 metres plus 0.8 metre blouse piece ,Width: 1.06 metres (approx.)\n"
     ]
    },
    {
     "data": {
      "text/html": [
       "<img src='http://assets.myntassets.com/assets/images/18775020/2022/6/18/3231f5fe-b2c4-4ff0-8407-eb48f19898731655530677722GreyNetSareeWithStoneWorkAndEmbroidery1.jpg' style='width:200px;height:200px'></img>"
      ],
      "text/plain": [
       "<IPython.core.display.HTML object>"
      ]
     },
     "metadata": {},
     "output_type": "display_data"
    },
    {
     "name": "stdout",
     "output_type": "stream",
     "text": [
      ",Design Details:,Pink and Orange checked saree and has a woven design border with tasselled detail,Blouse Piece,The model is wearing a stitched version of the blouse. The saree comes with an unstitched blouse piece.Length: 5.5 metres plus 80 cm blouse piece,Width: 1 metre (approx)Saree fabric: silk cotton,Blouse fabric: silk cotton,Hand-wash\n"
     ]
    },
    {
     "data": {
      "text/html": [
       "<img src='http://assets.myntassets.com/assets/images/11330220/2020/2/3/6b141e75-0235-48bf-82de-1daaab8a14b41580731314365-Saree-mall-Pink--Orange-Cotton-Silk--Ethnic-wear-Smart-Casua-1.jpg' style='width:200px;height:200px'></img>"
      ],
      "text/plain": [
       "<IPython.core.display.HTML object>"
      ]
     },
     "metadata": {},
     "output_type": "display_data"
    },
    {
     "name": "stdout",
     "output_type": "stream",
     "text": [
      "Breathe life into your ethnic collection by adding this elegant-looking saree. Designed with a floral print,woven border,and a silk blend fabric,this piece is sure to add to your appeal. ,Design Details ,Pink and blue Dyedbanarasi saree,Floral printed saree with woven design border,Trend Alert,Soft,light,and soothing,pastels always make a comeback in the spring and summer seasons. Encompassing a palette of hues including delicate pinks,pale lilac,cool blues,and mint tints,pastels exude a fresh,youthful vibe.Saree fabric:  Silk Blend ,Blouse fabric:  Silk Blend ,Dry cleanLength: 5.5 metres plus 0.8 metre(80 cm) blouse piece,Width: 1.06 metres (approx.)\n"
     ]
    },
    {
     "data": {
      "text/html": [
       "<img src='http://assets.myntassets.com/assets/images/14006702/2021/7/9/5061cea0-2ccc-46df-97c1-9c2625383d831625822806651-Saree-mall-Women-Sarees-5611625822806335-1.jpg' style='width:200px;height:200px'></img>"
      ],
      "text/plain": [
       "<IPython.core.display.HTML object>"
      ]
     },
     "metadata": {},
     "output_type": "display_data"
    }
   ],
   "source": [
    "display_response(context_chat_response)"
   ]
  },
  {
   "cell_type": "code",
   "execution_count": null,
   "metadata": {},
   "outputs": [],
   "source": []
  }
 ],
 "metadata": {
  "kernelspec": {
   "display_name": "Python 3",
   "language": "python",
   "name": "python3"
  },
  "language_info": {
   "codemirror_mode": {
    "name": "ipython",
    "version": 3
   },
   "file_extension": ".py",
   "mimetype": "text/x-python",
   "name": "python",
   "nbconvert_exporter": "python",
   "pygments_lexer": "ipython3",
   "version": "3.9.6"
  }
 },
 "nbformat": 4,
 "nbformat_minor": 2
}
